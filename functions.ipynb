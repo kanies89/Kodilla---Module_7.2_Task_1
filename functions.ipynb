{
 "cells": [
  {
   "cell_type": "markdown",
   "id": "0b236898",
   "metadata": {},
   "source": [
    "# używamy słowa def"
   ]
  },
  {
   "cell_type": "code",
   "execution_count": 2,
   "id": "f227e109",
   "metadata": {},
   "outputs": [],
   "source": [
    "def add(x,b):\n",
    "    return x + b"
   ]
  },
  {
   "cell_type": "markdown",
   "id": "7e7feec1",
   "metadata": {},
   "source": [
    "# do wywołania funkcji używamy okrągłych nawiasów \"nazwa funkcji\"()"
   ]
  },
  {
   "cell_type": "code",
   "execution_count": 3,
   "id": "018b7e17",
   "metadata": {},
   "outputs": [
    {
     "data": {
      "text/plain": [
       "6"
      ]
     },
     "execution_count": 3,
     "metadata": {},
     "output_type": "execute_result"
    }
   ],
   "source": [
    "add(5,1)"
   ]
  }
 ],
 "metadata": {
  "kernelspec": {
   "display_name": "Python 3 (ipykernel)",
   "language": "python",
   "name": "python3"
  },
  "language_info": {
   "codemirror_mode": {
    "name": "ipython",
    "version": 3
   },
   "file_extension": ".py",
   "mimetype": "text/x-python",
   "name": "python",
   "nbconvert_exporter": "python",
   "pygments_lexer": "ipython3",
   "version": "3.9.13"
  }
 },
 "nbformat": 4,
 "nbformat_minor": 5
}
